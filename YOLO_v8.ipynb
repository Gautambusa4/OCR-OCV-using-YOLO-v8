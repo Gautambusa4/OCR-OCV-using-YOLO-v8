{
  "cells": [
    {
      "cell_type": "markdown",
      "metadata": {
        "id": "view-in-github",
        "colab_type": "text"
      },
      "source": [
        "<a href=\"https://colab.research.google.com/github/Gautambusa4/OCR-OCV-using-YOLO-v8/blob/main/YOLO_v8.ipynb\" target=\"_parent\"><img src=\"https://colab.research.google.com/assets/colab-badge.svg\" alt=\"Open In Colab\"/></a>"
      ]
    },
    {
      "cell_type": "code",
      "execution_count": null,
      "metadata": {
        "id": "7lpCFPmof6wv"
      },
      "outputs": [],
      "source": [
        "!pip install ultralytics==8.0.20\n",
        "\n",
        "from IPython import display\n",
        "display.clear_output()\n",
        "\n",
        "import ultralytics\n",
        "ultralytics.checks()"
      ]
    },
    {
      "cell_type": "code",
      "execution_count": null,
      "metadata": {
        "id": "xd0K8y4ztOyI"
      },
      "outputs": [],
      "source": [
        "\n",
        "from ultralytics import YOLO\n",
        "\n",
        "from IPython.display import display, Image"
      ]
    },
    {
      "cell_type": "code",
      "execution_count": null,
      "metadata": {
        "id": "WDBvG1-DwPxg"
      },
      "outputs": [],
      "source": [
        "from google.colab import drive\n",
        "drive.mount('/content/drive')"
      ]
    },
    {
      "cell_type": "code",
      "execution_count": null,
      "metadata": {
        "id": "r5RyBe4uzbAD"
      },
      "outputs": [],
      "source": [
        "%cd  /content/drive/MyDrive/YOLO v8_1"
      ]
    },
    {
      "cell_type": "code",
      "execution_count": null,
      "metadata": {
        "id": "AcWigOW1zvYu"
      },
      "outputs": [],
      "source": [
        "%cd /content/drive/MyDrive/YOLO v8_1\n",
        "\n",
        "!yolo task=detect mode=train model=runs/detect/train/weights/best.pt data=data.yaml epochs=50 batch=5 plots=True patience=300 imgsz=700 save=True pretrained=True\n"
      ]
    },
    {
      "cell_type": "code",
      "execution_count": null,
      "metadata": {
        "id": "RFIv-S3oexV6"
      },
      "outputs": [],
      "source": [
        "!yolo task=detect mode=predict model=runs/detect/train/weights/best.pt source='/content/drive/MyDrive/TEST' save=data/test/results hide_conf=True conf=0.25 imgsz=440"
      ]
    },
    {
      "cell_type": "code",
      "execution_count": null,
      "metadata": {
        "id": "VZD4-rnSn0oi"
      },
      "outputs": [],
      "source": [
        "!yolo task=detect mode=predict model=runs/detect/train/weights/best.pt conf=0.25 source=data/test save=runs/detect hide_conf=True save_txt=True \n",
        "\n"
      ]
    },
    {
      "cell_type": "code",
      "execution_count": null,
      "metadata": {
        "id": "drlH8KV9excz"
      },
      "outputs": [],
      "source": [
        "model = YOLO('runs/detect/train4/weights/best.pt')\n",
        "results = model.predict(source='/content/drive/MyDrive/TEST/3.jpeg',conf=0.25,hide_conf=True)\n"
      ]
    },
    {
      "cell_type": "code",
      "execution_count": null,
      "metadata": {
        "id": "L0kImFS9k2Ej"
      },
      "outputs": [],
      "source": [
        "import cv2\n",
        "model = YOLO('runs/detect/train4/weights/best.pt')\n",
        "# Set the confidence threshold for object detection\n",
        "conf_thresh = 0.95\n",
        "# Disable confidence display in bounding boxes\n",
        "hide_conf = True\n",
        "img = cv2.imread('/content/drive/MyDrive/YOLO v8_1/data/test/Inspection02092022_161514682.bmp')\n",
        "results = model.predict(img, stream=True)\n",
        "names=model.names \n",
        "print(names)              \n",
        "# run prediction on img\n",
        "for result in results:                                       \n",
        "    boxes = result.boxes.cpu().numpy()                         # get boxes on cpu in numpy\n",
        "    for box in boxes:                                          # iterate boxes\n",
        "        r = box.xyxy[0].astype(int)                            # get corner points as int\n",
        "        print(r)                                               # print boxes\n",
        "        cv2.rectangle(img, r[:2], r[2:], (0,255,0), 2)   # draw boxes on img\n",
        "# Display the output image\n",
        "from google.colab.patches import cv2_imshow\n",
        "cv2_imshow(img)\n",
        "cv2.waitKey(0)\n",
        "cv2.destroyAllWindows()"
      ]
    },
    {
      "cell_type": "code",
      "execution_count": null,
      "metadata": {
        "id": "ltXnidCDKaeI"
      },
      "outputs": [],
      "source": [
        "\n",
        "import time\n",
        "import matplotlib.pyplot as plt\n",
        "import cv2\n",
        "# Start the timer\n",
        "start_time = time.time()\n",
        "\n",
        "# Load the image\n",
        "img = plt.imread('/content/drive/MyDrive/TEST/H.jpeg')\n",
        "\n",
        "# Run prediction on the image\n",
        "results = model.predict(img, stream=True,conf=0.25)\n",
        "\n",
        "# Get the names of the classes\n",
        "names = model.names\n",
        "\n",
        "# Loop over the results\n",
        "for result in results:\n",
        "    # Get the boxes\n",
        "    boxes = result.boxes.cpu().numpy()\n",
        "\n",
        "    # Loop over the boxes\n",
        "    for i in range(len(boxes)):\n",
        "        # Get the corner points as int\n",
        "        r = boxes[i].xyxy[0].astype(int)\n",
        "\n",
        "        # Draw the bounding box on the image\n",
        "        cv2.rectangle(img, r[:2], r[2:], (0, 255, 0), 2)\n",
        "\n",
        "        # Get the class name\n",
        "        cls = names[int(result.boxes.cls[i])]\n",
        "\n",
        "        # Label the bounding box with the class name\n",
        "        plt.text(r[0], r[1], cls, color='k', size=12, backgroundcolor=(0, 1, 0))\n",
        "\n",
        "# Stop the timer\n",
        "end_time = time.time()\n",
        "\n",
        "# Calculate the processing time\n",
        "processing_time = end_time - start_time\n",
        "\n",
        "# Print the processing time\n",
        "print(\"The processing time is\", processing_time, \"seconds.\")\n",
        "\n",
        "# Display the output image\n",
        "plt.imshow(img)\n",
        "plt.show()\n"
      ]
    },
    {
      "cell_type": "code",
      "execution_count": null,
      "metadata": {
        "id": "mj144YH-P5zp"
      },
      "outputs": [],
      "source": [
        "import time\n",
        "import matplotlib.pyplot as plt\n",
        "import cv2\n",
        "\n",
        "# Start the timer\n",
        "start_time = time.time()\n",
        "\n",
        "# Load the image\n",
        "img = plt.imread('/content/drive/MyDrive/YOLO v8_1/data/test/Inspection02122021_16055686.bmp')\n",
        "\n",
        "# Run prediction on the image\n",
        "results = model.predict(img, stream=True)\n",
        "\n",
        "# Get the names of the classes\n",
        "names = model.names\n",
        "\n",
        "# Print the detected objects in a string format\n",
        "detected_objects = []\n",
        "for result in results:\n",
        "    # Get the boxes\n",
        "    boxes = result.boxes.cpu().numpy()\n",
        "\n",
        "    # Loop over the boxes\n",
        "    for i in range(len(boxes)):\n",
        "        # Get the corner points as int\n",
        "        r = boxes[i].xyxy[0].astype(int)\n",
        "\n",
        "        # Get the class name\n",
        "        cls = names[int(result.boxes.cls[i])]\n",
        "\n",
        "        # Add the detected object to the list\n",
        "        detected_objects.append(cls)\n",
        "\n",
        "# Sort the detected objects in alphabetical order\n",
        "sorted_detected_objects = sorted(detected_objects)\n",
        "\n",
        "# Print the sorted detected objects\n",
        "print(\"The detected objects are:\", \", \".join(sorted_detected_objects))\n",
        "\n"
      ]
    },
    {
      "cell_type": "code",
      "execution_count": null,
      "metadata": {
        "id": "pHDSCI6OXuCn"
      },
      "outputs": [],
      "source": [
        "#OCV\n",
        "import time\n",
        "import matplotlib.pyplot as plt\n",
        "import cv2\n",
        "\n",
        "# Start the timer\n",
        "start_time = time.time()\n",
        "\n",
        "# Load the image\n",
        "img = plt.imread('/content/A1.jpg')\n",
        "\n",
        "# Run prediction on the image\n",
        "results = model.predict(img, stream=True)\n",
        "\n",
        "# Get the names of the classes\n",
        "names = model.names\n",
        "\n",
        "# Print the detected objects in a string format\n",
        "detected_objects = []\n",
        "for result in results:\n",
        "    # Get the boxes\n",
        "    boxes = result.boxes.cpu().numpy()\n",
        "\n",
        "    # Loop over the boxes\n",
        "    for i in range(len(boxes)):\n",
        "        # Get the corner points as int\n",
        "        r = boxes[i].xyxy[0].astype(int)\n",
        "\n",
        "        # Get the class name\n",
        "        cls = names[int(result.boxes.cls[i])]\n",
        "\n",
        "        # Add the detected object to the list\n",
        "        detected_objects.append(cls)\n",
        "\n",
        "# Sort the detected objects in alphabetical order\n",
        "sorted_detected_objects = sorted(detected_objects)\n",
        "\n",
        "# Print the sorted detected objects\n",
        "print(\"The detected objects are:\", \", \".join(sorted_detected_objects))\n",
        "\n",
        "# Get the string to compare\n",
        "string = \"., ., /, /, /, /, 0, 0, 0, 0, 0, 1, 1, 1, 1, 2, 2, 2, 2, 2, 2, 2, 3, 4, 5, 7, 9, 9, 9, B, N, R, S\"\n",
        "\n",
        "# Compare the strings\n",
        "if string == \", \".join(sorted_detected_objects):\n",
        "    # Print \"Pass\"\n",
        "    cv2.putText(img, \"PASS\", (250, 50), cv2.FONT_HERSHEY_SIMPLEX, 2, (0, 255, 0), 3)\n",
        "else:\n",
        "    # Print \"Fail\"\n",
        "    cv2.putText(img, \"FAIL\", (250, 50), cv2.FONT_HERSHEY_SIMPLEX, 2, (255,0,0), 3)\n",
        "\n",
        "# Display the image\n",
        "plt.imshow(img)\n",
        "plt.show()\n"
      ]
    },
    {
      "cell_type": "code",
      "source": [
        "\n",
        "import time\n",
        "import matplotlib.pyplot as plt\n",
        "import cv2\n",
        "\n",
        "# Start the timer\n",
        "start_time = time.time()\n",
        "\n",
        "# Load the image\n",
        "img = plt.imread('/content/drive/MyDrive/YOLO v8_1/data/test/Inspection02092022_16410794.bmp')\n",
        "\n",
        "# Run prediction on the image\n",
        "results = model.predict(img, stream=True)\n",
        "\n",
        "# Get the names of the classes\n",
        "names = model.names\n",
        "\n",
        "# Create a list to store the rois\n",
        "rois = []\n",
        "\n",
        "# Loop over the results\n",
        "for result in results:\n",
        "    # Get the boxes\n",
        "    boxes = result.boxes.cpu().numpy()\n",
        "\n",
        "    # Loop over the boxes\n",
        "    for i in range(len(boxes)):\n",
        "        # Get the corner points as int\n",
        "        r = boxes[i].xyxy[0].astype(int)\n",
        "        \n",
        "        # Add the roi to the list\n",
        "        rois.append((r,result.boxes.cls[i]))\n",
        "\n",
        "# Sort the rois from left to right and top to bottom\n",
        "#rois.sort(key=lambda x: x[0][0])\n",
        "rois.sort(key=lambda x: (x[0][1], x[0][0]))\n",
        "# Get the first row of rois\n",
        "first_row = [roi for roi in rois if roi[0][1] == 0]\n",
        "\n",
        "# Get the second row of rois\n",
        "second_row = [roi for roi in rois if roi[0][1] == 1]\n",
        "\n",
        "\n",
        "\n",
        "\n",
        "# Loop over the rois\n",
        "for roi in rois:\n",
        "    # Draw the bounding box on the image\n",
        "    cv2.rectangle(img, roi[0][:2], roi[0][2:], (0, 255, 0), 2)\n",
        "\n",
        "    # Get the class name\n",
        "    cls = names[int(roi[1])]\n",
        "        # Print the roi and the class name\n",
        "    print(roi, cls)\n",
        "\n",
        "    # Label the bounding box with the class name\n",
        "    plt.text(roi[0][0], roi[0][1], cls, color='k', size=12, backgroundcolor=(0, 1, 0))\n",
        "\n",
        "# Stop the timer\n",
        "end_time = time.time()\n",
        "\n",
        "# Calculate the processing time\n",
        "processing_time = end_time - start_time\n",
        "\n",
        "# Print the processing time\n",
        "print(\"The processing time is\", processing_time, \"seconds.\")\n",
        "\n",
        "# Display the output image\n",
        "plt.imshow(img)\n",
        "plt.show()\n",
        "\n",
        "cv2.destroyAllWindows()\n"
      ],
      "metadata": {
        "id": "DMgEReSAMEDo"
      },
      "execution_count": null,
      "outputs": []
    }
  ],
  "metadata": {
    "colab": {
      "provenance": [],
      "authorship_tag": "ABX9TyNDjlhDdFtfEOumwN+sHiE5",
      "include_colab_link": true
    },
    "gpuClass": "standard",
    "kernelspec": {
      "display_name": "Python 3",
      "name": "python3"
    },
    "language_info": {
      "name": "python"
    }
  },
  "nbformat": 4,
  "nbformat_minor": 0
}